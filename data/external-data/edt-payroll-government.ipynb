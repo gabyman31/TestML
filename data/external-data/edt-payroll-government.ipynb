{
 "cells": [
  {
   "cell_type": "code",
   "execution_count": 8,
   "outputs": [],
   "source": [
    "# This Notebook does data cleansing from https://www.contraloria.gob.pa/archivos_planillagub/Index_planillagub3.asp\n",
    "# and download all payroll with Data Miner, Chrome extension\n",
    "# This is the link of Data Mine: https://chrome.google.com/webstore/detail/data-scraper-easy-web-scr/nndknepjnldbdbepjfgmncbggmopgden\n",
    "# After that, We clean data and create a CSV File.\n",
    "\n",
    "import pandas as pd\n",
    "from data import export_to_csv"
   ],
   "metadata": {
    "collapsed": false,
    "pycharm": {
     "name": "#%%\n"
    }
   }
  },
  {
   "cell_type": "code",
   "execution_count": 9,
   "outputs": [],
   "source": [
    "# Functions\n",
    "\n",
    "# Reformat the personal ID from '9 - 0564- 00781' to '9-564-781'\n",
    "def reformat_personal_id(f_personalID):\n",
    "    space_persona_id = f_personalID.replace(\" \", \"\")\n",
    "    split_persona_id = space_persona_id.split('-')\n",
    "    split_a = split_persona_id[1].lstrip('0')\n",
    "    split_b = split_persona_id[2].lstrip('0')\n",
    "    join_personal_id = split_persona_id[0]+ '-' + split_a+ '-' + split_b\n",
    "\n",
    "    return join_personal_id\n",
    "\n",
    "# Change name of the columns and clean some rows.\n",
    "def transform_data_set(df_, inst_name):\n",
    "    first_name_list, last_name_list, id_list, position_list, salary_list, expense_list,\\\n",
    "    status_list, start_date_list, institution_name_list = [], [], [], [], [], [], [], [], []\n",
    "\n",
    "    for ind in df_.index:\n",
    "        first_name_list.append(df_['Nombre'][ind])\n",
    "        last_name_list.append(df_['Apellido'][ind])\n",
    "\n",
    "        personalId =reformat_personal_id(df_['Cedula'][ind])\n",
    "        id_list.append(personalId)\n",
    "\n",
    "        position_list.append(df_['Cargo'][ind])\n",
    "\n",
    "        salary_list.append(\"{:.2f}\".format(float(df_['Salario'][ind].replace(',', '')))) #2000.00\n",
    "        institution_name_list.append(inst_name)\n",
    "        # expense_list.append(df_['Gasto'][ind])\n",
    "        # status_list.append(df_['Estado'][ind])\n",
    "        # start_date_list.append(df_['Fecha de Inicio'][ind])\n",
    "\n",
    "    return_dataFrame = pd.DataFrame(data={\n",
    "        'first_name': first_name_list,\n",
    "        'last_name': last_name_list,\n",
    "        'personal_id': id_list,\n",
    "        'position': position_list,\n",
    "        'salary': salary_list,\n",
    "        'institution': institution_name_list\n",
    "        # 'expense': expense_list,\n",
    "        # 'status': status_list,\n",
    "        # 'start_date': start_date_list\n",
    "    })\n",
    "\n",
    "    return return_dataFrame"
   ],
   "metadata": {
    "collapsed": false,
    "pycharm": {
     "name": "#%%\n"
    }
   }
  },
  {
   "cell_type": "code",
   "execution_count": 10,
   "metadata": {
    "collapsed": true
   },
   "outputs": [],
   "source": [
    "# Read and transform all payrolls government CSV Files\n",
    "df_defensoria_pueblo = transform_data_set(pd.read_csv('./planillas/defensoria-del-pueblo.csv'), 'Defensoria del Pueblo')\n",
    "df_fiscalia_cuenta = transform_data_set(pd.read_csv('./planillas/fiscalia-de-cuentas.csv'), 'Fiscalia de Cuentas')\n",
    "df_fiscalia_general_electoral = transform_data_set(pd.read_csv('./planillas/fiscalia-general-electoral.csv'), 'Fiscalia General Electoral')\n",
    "df_ministerio_des_soc = transform_data_set(pd.read_csv('./planillas/ministerio-de-desarrollo-social.csv'), 'Ministerio de Desarrollo Social')\n",
    "df_m_gobierno = transform_data_set(pd.read_csv('./planillas/ministerio-de-gobierno.csv'), 'Ministerio de Gobierno')\n",
    "df_msp0 = transform_data_set(pd.read_csv('./planillas/ministerio-de-seguridad-publica-1.csv'), 'Ministerio de Seguridad Publica')\n",
    "df_msp1 = transform_data_set(pd.read_csv('./planillas/ministerio-de-seguridad-publica-2.csv'), 'Ministerio de Seguridad Publica')\n",
    "df_msp2 = transform_data_set(pd.read_csv('./planillas/ministerio-de-seguridad-publica-3.csv'), 'Ministerio de Seguridad Publica')\n",
    "df_msp3 = transform_data_set(pd.read_csv('./planillas/ministerio-de-seguridad-publica-4.csv'), 'Ministerio de Seguridad Publica')\n",
    "df_org_jud = transform_data_set(pd.read_csv('./planillas/organo-judicial.csv'), 'Organo Judicial')\n",
    "df_og_admin = transform_data_set(pd.read_csv('./planillas/otros-gastos-de-la-administracion.csv'), 'Otros Gastos Administrativo')\n",
    "df_p_admin = transform_data_set(pd.read_csv('./planillas/procuradoria-de-la-administracion.csv'), 'Procuradoria de la Administracion')\n",
    "df_p_general = transform_data_set(pd.read_csv('./planillas/procuraduria-general-nacional.csv'), 'Procuradoria General de la Nacion')\n",
    "df_tat = transform_data_set(pd.read_csv('./planillas/tribunal-administrativo-tributario.csv'), 'Tribunal Administrativo Tributario')\n",
    "df_tc = transform_data_set(pd.read_csv('./planillas/tribunal-de-cuentas.csv'), ' Tribunal de Cuentas')\n",
    "df_te = transform_data_set(pd.read_csv('./planillas/tribunal-electoral.csv'), 'Tribunal Electoral')\n",
    "\n",
    "df_asm_leg = transform_data_set(pd.read_csv('./planillas/asambleLegislativa.csv'), 'Asamblea Legislativa')\n",
    "df_cont_gen = transform_data_set(pd.read_csv('./planillas/contraloriaGeneralRepublica.csv'), 'Contraloria General de la Republica')\n",
    "df_m_comercio = transform_data_set(pd.read_csv('./planillas/ministerioComercioIndustria.csv'), 'Ministerio de Comercio Industria')\n",
    "df_des_agro = transform_data_set(pd.read_csv('./planillas/ministerioDesarrolloAgropecuario.csv'), 'Ministerio de Desarrollo Agropecuario')\n",
    "df_mef = transform_data_set(pd.read_csv('./planillas/ministerioEconomiaFinanzas.csv'), 'Ministerio Economia y Finanzas')\n",
    "df_meduca_0 = transform_data_set(pd.read_csv('./planillas/ministerioEducacion_part1.csv'), 'Ministerio Educacion')\n",
    "df_meduca_1 = transform_data_set(pd.read_csv('./planillas/ministerioEducacion_part2.csv'), 'Ministerio Educacion')\n",
    "df_meduca_2 = transform_data_set(pd.read_csv('./planillas/ministerioEducacion_part3.csv'), 'Ministerio Educacion')\n",
    "df_meduca_3 = transform_data_set(pd.read_csv('./planillas/ministerioEducacion_part4.csv'), 'Ministerio Educacion')\n",
    "df_meduca_4 = transform_data_set(pd.read_csv('./planillas/ministerioEducacion_part5.csv'), 'Ministerio Educacion')\n",
    "df_meduca_5 = transform_data_set(pd.read_csv('./planillas/ministerioEducacion_part6.csv'), 'Ministerio Educacion')\n",
    "df_mop = transform_data_set(pd.read_csv('./planillas/ministerioObrasPublicas.csv'), 'Ministerio Obras Publicas')\n",
    "df_minsa_0 = transform_data_set(pd.read_csv('./planillas/ministerioSalud_part1.csv'), 'Ministerio Salud')\n",
    "df_minsa_1 = transform_data_set(pd.read_csv('./planillas/ministerioSalud_part2.csv'), 'Ministerio Salud')\n",
    "df_mitradel = transform_data_set(pd.read_csv('./planillas/ministerioTrabajoDesarrolloLaboral.csv'), 'Ministerio de Trabajo y Desarrollo Laboral')\n",
    "df_mivi = transform_data_set(pd.read_csv('./planillas/ministerioVivienda.csv'), 'Ministerio de Vivienda')\n",
    "df_mire = transform_data_set(pd.read_csv('./planillas/ministroRelacionesExteriores.csv'), 'Ministerio de Relaciones Exteriores')\n",
    "df_pre = transform_data_set(pd.read_csv('./planillas/presidenciaRepublica.csv'), 'Presidencia de la Republica')\n"
   ]
  },
  {
   "cell_type": "code",
   "execution_count": 11,
   "outputs": [],
   "source": [
    "# create a list of all dataframes\n",
    "frames = [df_defensoria_pueblo, df_fiscalia_cuenta, df_fiscalia_general_electoral,\n",
    "          df_ministerio_des_soc, df_m_gobierno, df_msp0, df_msp1, df_msp2, df_msp3,\n",
    "          df_org_jud, df_og_admin, df_p_admin, df_p_general, df_tat, df_tc, df_te,\n",
    "          df_asm_leg,df_cont_gen, df_m_comercio, df_des_agro, df_mef, df_meduca_0,\n",
    "          df_meduca_1, df_meduca_2, df_meduca_3, df_meduca_4, df_meduca_5, df_mop,\n",
    "          df_minsa_0, df_minsa_1, df_mitradel, df_mivi, df_mire, df_pre]\n",
    "\n",
    "# Create a new dataframe\n",
    "concat_big_dataframe = pd.concat(frames)\n",
    "\n",
    "# Delete duplicate rows\n",
    "drop_big_dataframe = concat_big_dataframe.drop_duplicates(subset='personal_id')"
   ],
   "metadata": {
    "collapsed": false,
    "pycharm": {
     "name": "#%%\n"
    }
   }
  },
  {
   "cell_type": "code",
   "execution_count": 12,
   "outputs": [
    {
     "name": "stdout",
     "output_type": "stream",
     "text": [
      "Star\n",
      "Finish\n"
     ]
    }
   ],
   "source": [
    "# Export to CSV\n",
    "export_to_csv(drop_big_dataframe,'edt-payroll-government.csv')"
   ],
   "metadata": {
    "collapsed": false,
    "pycharm": {
     "name": "#%%\n"
    }
   }
  }
 ],
 "metadata": {
  "kernelspec": {
   "display_name": "Python 3",
   "language": "python",
   "name": "python3"
  },
  "language_info": {
   "codemirror_mode": {
    "name": "ipython",
    "version": 2
   },
   "file_extension": ".py",
   "mimetype": "text/x-python",
   "name": "python",
   "nbconvert_exporter": "python",
   "pygments_lexer": "ipython2",
   "version": "2.7.6"
  }
 },
 "nbformat": 4,
 "nbformat_minor": 0
}